{
 "cells": [
  {
   "cell_type": "markdown",
   "metadata": {},
   "source": [
    "# Analiza prometnih nesreč v Sloveniji"
   ]
  },
  {
   "cell_type": "markdown",
   "metadata": {},
   "source": [
    "**Člani**\n",
    "  * Špela Čoha\n",
    "  * Gal Fajon\n",
    "  * Manca Lapanje\n",
    "  * Tia Šarkezi"
   ]
  },
  {
   "cell_type": "markdown",
   "metadata": {},
   "source": [
    "# 1. Uvod\n",
    "Prometne nesreče so ena izmed najpogostejših oblik nezgod, s katerimi se srečujemo v vsakdanjem življenju. V Sloveniji žal niso izjema, saj se tudi na naših cestah dogajajo prometne nesreče, ki imajo pogosto tragične posledice. Namen naše seminarske naloge je bila analiza in predstavitev podatke o prometnih nesreč v Sloveniji od leta 2009 do 2022. \n",
    "\n",
    "Naš cilj je bil ugotoviti:\n",
    "\n",
    "  * število prometnih nesreč po letih,\n",
    "  * kdo so največkrat povzročitelji nesreč,\n",
    "  * stopnjo korelacije med povzročitvijo nesreče in vozniškim stažem,\n",
    "  * kako pogoste so različne stopnje poškodb,\n",
    "  * stopnjo korelacije med tipi poškodb in uporabo varnostnega pasu,\n",
    "  * v kakšnem vremenu, ob katerem delu dneva, v katerih mestih in na katerih   cestah so prometne nesreče najpogostejše."
   ]
  },
  {
   "cell_type": "markdown",
   "metadata": {},
   "source": [
    "# 2. Opis podatkov "
   ]
  },
  {
   "cell_type": "markdown",
   "metadata": {},
   "source": [
    "Podatke o prometnih nesrečah v Sloveniji smo pridobili na spletni strani OPSI (https://podatki.gov.si/dataset/mnzpprometne-nesrece-od-leta-2009-dalje).\n",
    "Podatki o nesrečah za vsako leto so zapisani v ločenih .csv datotekah. Vsaka datoteka vsebuje 35 atributov, ki opisujejo podrobnosti prometnih nesreč. Podatke smo za vsako leto posebej s pomočjo funkcije pretvorili v numpy array. Pri vsakem grafu posebej smo pogledali, katere podatke bomo potrebovali in poskrbeli, da so bili ustrezno predprocesirani. Npr.: izločili smo vrednosti ostalo in neznano, izločili smo koordinate 0,0,.. Prav tako smo posebne znake zamenjali s šumniki.\n",
    "\n",
    "### Podroben opis podatkov ###\n",
    "\n",
    "`ZaporednaStevilkaPN` - številka za štetje in ločevanje posamezne prometne nesreče\n",
    "\n",
    "`KlasifikacijaNesrece` - klasifikacija nesreče glede na posledice (avtomatičen izračun glede na najhujšo posledico pri udeležencih v prometni nesreči)\n",
    "\n",
    "`UpravnaEnotaStoritve` - upravna enota, na območju katere se je zgodila prometna nesreča\n",
    "\n",
    "`DatumPN`, `UraPN` - datum in ura prometne nesreče\n",
    "\n",
    "`VNaselju` - indikator ali se je nesreča zgodila v naselju (D) ali izven (N)\n",
    "\n",
    "`Lokacija` - lokacija nesreče (cesta/naselje)\n",
    "\n",
    "`VrstaCesteNaselja`, `SifraCesteNaselja`, `TekstCesteNaselja` - vrsta, oznaka in tekst ceste ali naselja, kjer je prišlo do nesreče\n",
    "\n",
    "`SifraOdsekaUlice`, `TekstOdsekaUlice` - oznaka in tekst odseka ali ulice, kjer je prišlo do nesreče\n",
    "\n",
    "`StacionazaDogodka` - točna stacionaža ali hišna številka, kjer je prišlo do nesreče\n",
    "\n",
    "`OpisKraja` - opis prizorišča nesreče\n",
    "\n",
    "`VzrokNesrece`, `TipNesrece` - glavni vzrok in tip nesreče\n",
    "\n",
    "`VremenskeOkolicine` - vremenske okoliščine v času nesreče (jasno, oblačno, megla, deževno...)\n",
    "\n",
    "`StanjePrometa`, `StanjeVozisca` - stanje prometa in vozišče v času nesreče\n",
    "\n",
    "`GeoKoordinataX`, `GeoKoordinataY` - koordinate prometne nesreče\n",
    "\n",
    "`ZaporednaStevilkaOsebeVPN` - številka za štetje in ločevanje oseb, udeleženih v prometnih nesrečah\n",
    "\n",
    "`Povzrocitelj` - kot kaj nastopa oseba v prometni nesreči (povzročitelj/udeleženec)\n",
    "\n",
    "`Starost`, `Spol` - starost in spol osebe\n",
    "\n",
    "`UEStalnegaPrebivalisca` - upravna enota stalnega prebivališča\n",
    "\n",
    "`Drzavljanstvo` - državljanstvo osebe\n",
    "\n",
    "`PoskodbaUdelezenca` - poškodba osebe (brez poškodbe, lažja telesna poškodba, huda telesna poškodba, smrt)\n",
    "\n",
    "`VrstaUdelezenca` - vrsta udeleženca (voznik osebnega avtomobila, voznik lahkega motornega vozila, pešec, potnik, voznik avtobusa, voznik tovornega vozila...)\n",
    "\n",
    "`UporabaVarnostnegaPasu` - ali je oseba uporabljala varnostni pas ali čelado (polje se interpretira v odvisnosti od vrste udeleženca) (Da/Ne)\n",
    "\n",
    "`VozniskiStazVLetih`, `VozniskiStazVMesecih` - vozniški staž osebe za kategorijo, ki jo potrebuje glede na vrsto udeleženca v prometu\n",
    "\n",
    "`VrednostAlkotesta` - vrednost alkotesta za osebo, če je bil opravljen (n.nn v enoti mg alkohola/liter izdihanega zraka (mg/l))\n",
    "\n",
    "`VrednostStrokovnegaPregleda` - vrednost strokovnega pregleda za osebo, če je bil odrejen in so rezultati že znani (n.nn v enoti g alkohola/kg krvi (g/kg))"
   ]
  },
  {
   "cell_type": "markdown",
   "metadata": {},
   "source": [
    "# 3. Rezultati"
   ]
  },
  {
   "cell_type": "markdown",
   "metadata": {},
   "source": [
    "### 3.1 Število prometnih nesreč po letih ##"
   ]
  },
  {
   "cell_type": "markdown",
   "metadata": {},
   "source": [
    "![nesrecepoletih](vizualizacije/nesrecepoletih.jpg)"
   ]
  },
  {
   "cell_type": "markdown",
   "metadata": {},
   "source": [
    "V spodnjem grafu je prikazan delež prometnih nesreč glede na posamezno leto. Opazimo lahko dve zanimivosti. Med letom 2012 in 2013 je zelo strm upad števila prometnih nesreč, ki zatem ponovno začne naraščati, dokler leta 2020 in 2021 ponovno ostro upade. Razlog za to, predvidevamo da je pandemija COVID-19, saj se po ukinitvi prepovedi gibanja, ki je bilo leta 2022, število nesreč ponovno povzpne na skoraj enako število kot prej."
   ]
  },
  {
   "cell_type": "markdown",
   "metadata": {},
   "source": [
    "## 3.2 Najpogostejši povročitelji nesreč"
   ]
  },
  {
   "cell_type": "markdown",
   "metadata": {},
   "source": [
    "### Starost povzročiteljev nesreč"
   ]
  },
  {
   "cell_type": "markdown",
   "metadata": {},
   "source": [
    "TO DO: probi drugače razporedit grafe, da vzamejo manj placa"
   ]
  },
  {
   "cell_type": "markdown",
   "metadata": {},
   "source": [
    "![povzrocitelji-vozniki](vizualizacije/povzrocitelji-vozniki.jpg)"
   ]
  },
  {
   "cell_type": "markdown",
   "metadata": {},
   "source": [
    "![povzrocitelji-kolesarji](vizualizacije/povzrocitelji-kolesarji.jpg)"
   ]
  },
  {
   "cell_type": "markdown",
   "metadata": {},
   "source": [
    "![povzrocitelji-pesci](vizualizacije/povzrocitelji-pesci.jpg)"
   ]
  },
  {
   "cell_type": "markdown",
   "metadata": {},
   "source": [
    "TO DO: opis grafov"
   ]
  },
  {
   "cell_type": "markdown",
   "metadata": {},
   "source": [
    "### Spol povzročiteljev nesreč"
   ]
  },
  {
   "cell_type": "markdown",
   "metadata": {},
   "source": [
    "![spolpovzrociteljev](vizualizacije/spolpovzrociteljev.jpg)"
   ]
  },
  {
   "cell_type": "markdown",
   "metadata": {},
   "source": [
    "TO DO: opis"
   ]
  },
  {
   "cell_type": "markdown",
   "metadata": {},
   "source": [
    "### Povprečna starost voznika, ki povzroči nesrečo po letih"
   ]
  },
  {
   "cell_type": "markdown",
   "metadata": {},
   "source": [
    "![starostpovzrocitelja](vizualizacije/starostpovzrocitelja.jpg)"
   ]
  },
  {
   "cell_type": "markdown",
   "metadata": {},
   "source": [
    "Najpogostejše karakteristike povzročiteljev nesreč smo ugotavljali tako, da smo analizirali, katera starost in spol prevladuje med povzročitelji. \n",
    "Starost smo analizirali tako, da smo povročitelje razdelili na kategorije vozniki, kolesarji in pešci. Ugotovili smo, da so vozniki, ki povzročajo prometne nesreče najpogosteje med štiridesetim in šestdesetim letom starosti ali starejši. Opaziti je možno tudi presenetljivo število mladoletnih voznikov, nekateri so celo mlajši od 16 let in največkrat navedeni kot vozniki lahkih motornih vozil. Pri kolesarjih so povročitelji najpogosteje stari med 40 in 60 let, pri peščih pa starejši od 60 let, sledijo pa jim mladoletni.  Prav tako smo na spodnjem grafu prikazali tudi povprečno starost povzročiteljev nesreč. Vidimo lahko, da ta zelo počasi narašča, kar je moč povezati s staranjem populacije v Sloveniji.\n",
    "Analizo po spolu smo prikazali s pomočjo grafa. Opazimo, da je delež moških, ki povročijo prometne nesreče  v povprečju sedemdeset odstoten."
   ]
  },
  {
   "cell_type": "markdown",
   "metadata": {},
   "source": [
    "## 3.3 Stopnja korelacije med povročitelji nesreč in vozniškim stažem"
   ]
  },
  {
   "cell_type": "markdown",
   "metadata": {},
   "source": [
    "![vozniskistaz](vizualizacije/vozniskistaz.jpg)"
   ]
  },
  {
   "cell_type": "markdown",
   "metadata": {},
   "source": [
    "Delež povzročiteljev nesreč v povezavi s časom vozniškega staza smo prikazali z zgornjim histogramom. Razberemo lahko, da prevladujejo osebe s vozniškim stažem med 0 in 5 let. Rekli bi lahko, da več časa kot imajo osebe vozniško dovoljenje, majn prometnih nesreč povzročijo. "
   ]
  },
  {
   "cell_type": "markdown",
   "metadata": {},
   "source": [
    "## 3.4 Pogostost vrst prometnih nesreč"
   ]
  },
  {
   "cell_type": "markdown",
   "metadata": {},
   "source": [
    "![vrsta](vizualizacije/vrsta.jpg)"
   ]
  },
  {
   "cell_type": "markdown",
   "metadata": {},
   "source": [
    "TO DO: opis"
   ]
  },
  {
   "cell_type": "markdown",
   "metadata": {},
   "source": [
    "## 3.5 Stopnja korelacije med tipi poškodb in uporabo varnostnega pasu"
   ]
  },
  {
   "cell_type": "markdown",
   "metadata": {},
   "source": [
    "![varnostnipas](vizualizacije/varnostnipas.jpg)"
   ]
  },
  {
   "cell_type": "markdown",
   "metadata": {},
   "source": [
    "Iz spodnje statistike je razvidno, da je delež ljudi, ki so v prometnih nesrečah umrli in med vožnjo niso imeli zapetega varnostnega pasu večji kot pri vseh ostalih kategorijah. Hkrati pa je delež voznikov ki v nesreči niso utrpeli poškodb in niso imeli zapetega pasu opazno manjši od deleža zapetih voznikov. Pri ustvarjanju takih ocen je potrebno tudi upoštevati katere vrste nesreč vodijo do kakšnih izidov."
   ]
  },
  {
   "cell_type": "markdown",
   "metadata": {},
   "source": [
    "## 3.6 Najpogostejše okoliščine prometnih nesreč"
   ]
  },
  {
   "cell_type": "markdown",
   "metadata": {},
   "source": [
    "### Vzroki prometnih nesreč"
   ]
  },
  {
   "cell_type": "markdown",
   "metadata": {},
   "source": [
    "![vzroki](vizualizacije/vzroki.jpg)"
   ]
  },
  {
   "cell_type": "markdown",
   "metadata": {},
   "source": [
    "TO DO: opis"
   ]
  },
  {
   "cell_type": "markdown",
   "metadata": {},
   "source": [
    "### Gostota prometa ob nesrečah"
   ]
  },
  {
   "cell_type": "markdown",
   "metadata": {},
   "source": [
    "![promet](vizualizacije/promet.jpg)"
   ]
  },
  {
   "cell_type": "markdown",
   "metadata": {},
   "source": [
    "TO DO: opis grafa"
   ]
  },
  {
   "cell_type": "markdown",
   "metadata": {},
   "source": [
    "### Prometne nesreče po dnevih in delih dneva ###"
   ]
  },
  {
   "cell_type": "markdown",
   "metadata": {},
   "source": [
    "![dnevi](vizualizacije/dnevi.jpg)"
   ]
  },
  {
   "cell_type": "markdown",
   "metadata": {},
   "source": [
    "TO DO: opis"
   ]
  },
  {
   "cell_type": "markdown",
   "metadata": {},
   "source": [
    "### Prometne nesreče in izidi glede na vremenske okoliščine ###"
   ]
  },
  {
   "cell_type": "markdown",
   "metadata": {},
   "source": [
    "![vreme](vizualizacije/vreme.jpg)"
   ]
  },
  {
   "cell_type": "markdown",
   "metadata": {},
   "source": [
    "TO DO: opis"
   ]
  },
  {
   "cell_type": "markdown",
   "metadata": {},
   "source": [
    "## Zanimivosti in zaključek"
   ]
  }
 ],
 "metadata": {
  "kernelspec": {
   "display_name": "Python 3 (ipykernel)",
   "language": "python",
   "name": "python3"
  },
  "language_info": {
   "codemirror_mode": {
    "name": "ipython",
    "version": 3
   },
   "file_extension": ".py",
   "mimetype": "text/x-python",
   "name": "python",
   "nbconvert_exporter": "python",
   "pygments_lexer": "ipython3",
   "version": "3.9.13"
  }
 },
 "nbformat": 4,
 "nbformat_minor": 2
}
