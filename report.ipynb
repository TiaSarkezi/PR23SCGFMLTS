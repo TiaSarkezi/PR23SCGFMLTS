{
 "cells": [
  {
   "cell_type": "markdown",
   "metadata": {},
   "source": [
    "# Analiza prometnih nesreč v Sloveniji"
   ]
  },
  {
   "cell_type": "markdown",
   "metadata": {},
   "source": [
    "**Člani**\n",
    "  * Špela Čoha\n",
    "  * Gal Fajon\n",
    "  * Manca Lapanje\n",
    "  * Tia Šarkezi"
   ]
  },
  {
   "cell_type": "markdown",
   "metadata": {},
   "source": [
    "# 1. Uvod\n",
    "Prometne nesreče so ena izmed najpogostejših oblik nezgod, s katerimi se srečujemo v vsakdanjem življenju. V Sloveniji žal niso izjema, saj se tudi na naših cestah dogajajo prometne nesreče, ki imajo pogosto tragične posledice. Namen naše seminarske naloge je bila analiza in predstavitev podatke o prometnih nesreč v Sloveniji od leta 2009 do 2022. \n",
    "\n",
    "Naš cilj je bil ugotoviti:\n",
    "\n",
    "  * število prometnih nesreč po letih,\n",
    "  * kdo so največkrat povzročitelji nesreč,\n",
    "  * stopnjo korelacije med povzročitvijo nesreče in vozniškim stažem,\n",
    "  * kako pogosti so različni izidi prometnih nesreč,\n",
    "  * stopnjo korelacije med tipi poškodb in uporabo varnostnega pasu,\n",
    "  * v kakšnem vremenu, ob katerih dneh in katerem delu dneva so prometne nesreče najpogostejše."
   ]
  },
  {
   "cell_type": "markdown",
   "metadata": {},
   "source": [
    "# 2. Opis podatkov "
   ]
  },
  {
   "cell_type": "markdown",
   "metadata": {},
   "source": [
    "Podatke o prometnih nesrečah v Sloveniji smo pridobili na spletni strani OPSI (https://podatki.gov.si/dataset/mnzpprometne-nesrece-od-leta-2009-dalje).\n",
    "Podatki o nesrečah za vsako leto so zapisani v ločenih .csv datotekah. Vsaka datoteka vsebuje 35 atributov, ki opisujejo podrobnosti prometnih nesreč. Podatke smo za vsako leto posebej s pomočjo funkcije pretvorili v numpy array. Pri vsakem grafu posebej smo pogledali, katere podatke bomo potrebovali in poskrbeli, da so bili ustrezno predprocesirani. Npr. izločili smo vrednosti 'ostalo' in 'neznano', koordinate (0,0)... Prav tako smo posebne znake zamenjali s šumniki.\n",
    "\n",
    "### Podroben opis podatkov ###\n",
    "\n",
    "`ZaporednaStevilkaPN` - številka za štetje in ločevanje posamezne prometne nesreče\n",
    "\n",
    "`KlasifikacijaNesrece` - klasifikacija nesreče glede na posledice (avtomatičen izračun glede na najhujšo posledico pri udeležencih v prometni nesreči)\n",
    "\n",
    "`UpravnaEnotaStoritve` - upravna enota, na območju katere se je zgodila prometna nesreča\n",
    "\n",
    "`DatumPN`, `UraPN` - datum in ura prometne nesreče\n",
    "\n",
    "`VNaselju` - indikator ali se je nesreča zgodila v naselju (D) ali izven (N)\n",
    "\n",
    "`Lokacija` - lokacija nesreče (cesta/naselje)\n",
    "\n",
    "`VrstaCesteNaselja`, `SifraCesteNaselja`, `TekstCesteNaselja` - vrsta, oznaka in tekst ceste ali naselja, kjer je prišlo do nesreče\n",
    "\n",
    "`SifraOdsekaUlice`, `TekstOdsekaUlice` - oznaka in tekst odseka ali ulice, kjer je prišlo do nesreče\n",
    "\n",
    "`StacionazaDogodka` - točna stacionaža ali hišna številka, kjer je prišlo do nesreče\n",
    "\n",
    "`OpisKraja` - opis prizorišča nesreče\n",
    "\n",
    "`VzrokNesrece`, `TipNesrece` - glavni vzrok in tip nesreče\n",
    "\n",
    "`VremenskeOkolicine` - vremenske okoliščine v času nesreče (jasno, oblačno, megla, deževno...)\n",
    "\n",
    "`StanjePrometa`, `StanjeVozisca` - stanje prometa in vozišče v času nesreče\n",
    "\n",
    "`GeoKoordinataX`, `GeoKoordinataY` - koordinate prometne nesreče\n",
    "\n",
    "`ZaporednaStevilkaOsebeVPN` - številka za štetje in ločevanje oseb, udeleženih v prometnih nesrečah\n",
    "\n",
    "`Povzrocitelj` - kot kaj nastopa oseba v prometni nesreči (povzročitelj/udeleženec)\n",
    "\n",
    "`Starost`, `Spol` - starost in spol osebe\n",
    "\n",
    "`UEStalnegaPrebivalisca` - upravna enota stalnega prebivališča\n",
    "\n",
    "`Drzavljanstvo` - državljanstvo osebe\n",
    "\n",
    "`PoskodbaUdelezenca` - poškodba osebe (brez poškodbe, lažja telesna poškodba, huda telesna poškodba, smrt)\n",
    "\n",
    "`VrstaUdelezenca` - vrsta udeleženca (voznik osebnega avtomobila, voznik lahkega motornega vozila, pešec, potnik, voznik avtobusa, voznik tovornega vozila...)\n",
    "\n",
    "`UporabaVarnostnegaPasu` - ali je oseba uporabljala varnostni pas ali čelado (polje se interpretira v odvisnosti od vrste udeleženca) (Da/Ne)\n",
    "\n",
    "`VozniskiStazVLetih`, `VozniskiStazVMesecih` - vozniški staž osebe za kategorijo, ki jo potrebuje glede na vrsto udeleženca v prometu\n",
    "\n",
    "`VrednostAlkotesta` - vrednost alkotesta za osebo, če je bil opravljen (n.nn v enoti mg alkohola/liter izdihanega zraka (mg/l))\n",
    "\n",
    "`VrednostStrokovnegaPregleda` - vrednost strokovnega pregleda za osebo, če je bil odrejen in so rezultati že znani (n.nn v enoti g alkohola/kg krvi (g/kg))"
   ]
  },
  {
   "cell_type": "markdown",
   "metadata": {},
   "source": [
    "# 3. Rezultati"
   ]
  },
  {
   "cell_type": "markdown",
   "metadata": {},
   "source": [
    "### 3.1 Število prometnih nesreč po letih ##"
   ]
  },
  {
   "cell_type": "markdown",
   "metadata": {},
   "source": [
    "![nesrecepoletih](vizualizacije/nesrecepoletih.jpg)"
   ]
  },
  {
   "cell_type": "markdown",
   "metadata": {},
   "source": [
    "V zgornjem grafu je prikazan delež prometnih nesreč glede na posamezno leto. Opazimo lahko dve zanimivosti. Med letom 2012 in 2013 je zelo strm upad števila prometnih nesreč, ki zatem ponovno začne naraščati, leta 2020 in 2021 pa ponovno ostro upade. To lahko pripišemo pandemiji COVID-19, saj se po ukinitvi prepovedi gibanja leta 2022 število nesreč ponovno povzpne na skoraj enako število kot prej."
   ]
  },
  {
   "cell_type": "markdown",
   "metadata": {},
   "source": [
    "## 3.2 Najpogostejši povročitelji nesreč"
   ]
  },
  {
   "cell_type": "markdown",
   "metadata": {},
   "source": [
    "### Starost povzročiteljev nesreč"
   ]
  },
  {
   "cell_type": "markdown",
   "metadata": {},
   "source": [
    "![povzrocitelji-vozniki](vizualizacije/povzrocitelji-vozniki.jpg)"
   ]
  },
  {
   "cell_type": "markdown",
   "metadata": {},
   "source": [
    "![povzrocitelji-kolesarji](vizualizacije/povzrocitelji-kolesarji.jpg)"
   ]
  },
  {
   "cell_type": "markdown",
   "metadata": {},
   "source": [
    "![povzrocitelji-pesci](vizualizacije/povzrocitelji-pesci.jpg)"
   ]
  },
  {
   "cell_type": "markdown",
   "metadata": {},
   "source": [
    "Iz zgornjih analiz je možno opaziti, da so vozniki, ki povzročajo prometne nesreče najpogosteje med štiridesetim in šestdesetim letom starosti. Opaziti je možno tudi presenetljivo število mladoletnih voznikov, nekateri so celo mlajši od 16 let in največkrat navedeni kot vozniki lahkih motornih vozil. Kolesarji, ki z neodgovorno vožnjo povzročijo prometno nesrečo se bolj jasno razdelijo na mladoletne ali starejše. Podobno velja tudi za pešce, kjer je delež pešcev med osemnajstim in enaindvajsetim letom presenetljivo velik."
   ]
  },
  {
   "cell_type": "markdown",
   "metadata": {},
   "source": [
    "### Spol povzročiteljev nesreč"
   ]
  },
  {
   "cell_type": "markdown",
   "metadata": {},
   "source": [
    "![spolpovzrociteljev](vizualizacije/spolpovzrociteljev.jpg)"
   ]
  },
  {
   "cell_type": "markdown",
   "metadata": {},
   "source": [
    "Na zgornjem grafu je razvidno, da je delež moških, ki povzročijo prometno nesrečo v povprečju sedemdeset odstoten."
   ]
  },
  {
   "cell_type": "markdown",
   "metadata": {},
   "source": [
    "### Povprečna starost voznika, ki povzroči nesrečo po letih"
   ]
  },
  {
   "cell_type": "markdown",
   "metadata": {},
   "source": [
    "![starostpovzrocitelja](vizualizacije/starostpovzrocitelja.jpg)"
   ]
  },
  {
   "cell_type": "markdown",
   "metadata": {},
   "source": [
    "Na zgornjem grafu smo prikazali tudi povprečno starost povzročiteljev nesreč. Vidimo lahko, da ta zelo počasi narašča, kar je moč povezati s staranjem populacije v Sloveniji."
   ]
  },
  {
   "cell_type": "markdown",
   "metadata": {},
   "source": [
    "## 3.3 Stopnja korelacije med povročitelji nesreč in vozniškim stažem"
   ]
  },
  {
   "cell_type": "markdown",
   "metadata": {},
   "source": [
    "![vozniskistaz](vizualizacije/vozniskistaz.jpg)"
   ]
  },
  {
   "cell_type": "markdown",
   "metadata": {},
   "source": [
    "Delež povzročiteljev nesreč v povezavi s časom vozniškega staza smo prikazali z zgornjim histogramom. Razberemo lahko, da prevladujejo osebe s vozniškim stažem med 0 in 5 let. Rekli bi lahko, da več časa kot imajo osebe vozniško dovoljenje, manj prometnih nesreč povzročijo. "
   ]
  },
  {
   "cell_type": "markdown",
   "metadata": {},
   "source": [
    "## 3.4 Stopnja korelacije med tipi poškodb in uporabo varnostnega pasu"
   ]
  },
  {
   "cell_type": "markdown",
   "metadata": {},
   "source": [
    "![varnostnipas](vizualizacije/varnostnipas.jpg)"
   ]
  },
  {
   "cell_type": "markdown",
   "metadata": {},
   "source": [
    "Iz spodnje statistike je razvidno, da je delež ljudi, ki so v prometnih nesrečah umrli in med vožnjo niso imeli zapetega varnostnega pasu večji kot pri vseh ostalih kategorijah. Hkrati pa je delež voznikov ki v nesreči niso utrpeli poškodb in niso imeli zapetega pasu opazno manjši od deleža zapetih voznikov. Pri ustvarjanju takih ocen je potrebno tudi upoštevati katere vrste nesreč vodijo do kakšnih izidov."
   ]
  },
  {
   "cell_type": "markdown",
   "metadata": {},
   "source": [
    "## 3.5 Najpogostejše okoliščine prometnih nesreč"
   ]
  },
  {
   "cell_type": "markdown",
   "metadata": {},
   "source": [
    "### Vzroki prometnih nesreč"
   ]
  },
  {
   "cell_type": "markdown",
   "metadata": {},
   "source": [
    "![vzroki](vizualizacije/vzroki.jpg)"
   ]
  },
  {
   "cell_type": "markdown",
   "metadata": {},
   "source": [
    "Iz zgornjega grafa, ki opisuje najpogostejše vzroke prometnih nesreč, je razvidno, da je napogostejši vzrok za prometno nesrečo premik z vozilom. Za tem sledijo nepravilna smer vožnje, neprilagojena hitrost, neupoštevanje pravil o prednosti in neustrezna varnostna razdalja. Delež prometnih nesreč teh vzrokov ni velik. Sledi nepavilno prehitevanje, kjer je občutna zmanjšana pogostost v primerjavi s prejšnjimi štirimi vzroki prometnih nesreč. Razvidno je, da so najmanj pogosti vzroki nepravilnost na cesti, nepravilnosti na tovoru in nepravilnosti na vozilu."
   ]
  },
  {
   "cell_type": "markdown",
   "metadata": {},
   "source": [
    "### Gostota prometa ob nesrečah"
   ]
  },
  {
   "cell_type": "markdown",
   "metadata": {},
   "source": [
    "![promet](vizualizacije/promet.jpg)"
   ]
  },
  {
   "cell_type": "markdown",
   "metadata": {},
   "source": [
    "Graf prikazuje podatke o gostoti prometa ob nesrečah. Iz grafa je razvidno, da se največ prometnih nesreč zgodi, ko je promet gost, torej ko je intenzivnost prometa visoka in se vozila gibljejo počasneje. Sledi redek promet, kar pomeni, da je zgoščenost vozil nizka, hitrost vozil pa večja. Nato sledi tekoč promet, kjer gre za promet, ki teče gladko in pri kateremu se vozila lažje prilagodijo razmeram na cestah. Kolona vozil ima občutno manjši delež prometnih nesreč, kot ostale že omenjene razmere prometa. Najmanjši delež prometnih nesreč je pa takrat, ko so zastoji in vozila stojijo na mestuu."
   ]
  },
  {
   "cell_type": "markdown",
   "metadata": {},
   "source": [
    "### Prometne nesreče po dnevih in delih dneva ###"
   ]
  },
  {
   "cell_type": "markdown",
   "metadata": {},
   "source": [
    "![dnevi](vizualizacije/dnevi.jpg)"
   ]
  },
  {
   "cell_type": "markdown",
   "metadata": {},
   "source": [
    "Zgornji graf prikazuje vizualno primerjavo pogostosti prometnih nesreč po dnevih v tednu in delih dneva. Opazimo, da se največ prometnih nesreč zgodi ob petkih med 12. in 15. uro. Tudi ob ostalih delovnikih je število nesreč med 12. in 18. uro visoko. Najmanj nesreč se zgodi ob torkih med polnočjo in 3. uro, prav tako pa je to časovno obdobje najbolj “varno” ob ostalih delovnikih. Predvidevamo lahko, da na prometne nesreče med tednom bolj vpliva ura kot dan, kar je smiselno, saj se v popoldanskih urah, ko je največ nesreč, veliko ljudi vrača domov iz dela, posledično je na cesti večje število vozil."
   ]
  },
  {
   "cell_type": "markdown",
   "metadata": {},
   "source": [
    "### Prometne nesreče in izidi glede na vremenske okoliščine ###"
   ]
  },
  {
   "cell_type": "markdown",
   "metadata": {},
   "source": [
    "![vreme](vizualizacije/vreme.jpg)"
   ]
  },
  {
   "cell_type": "markdown",
   "metadata": {},
   "source": [
    "Zgornji graf prikazuje prometne nesreče in izide glede na vremenske okoliščine. Opazimo lahko, da vremenske razmere do neke mere vplivajo na resnost prometnih nesreč. Iz grafa je razvidno, da je ne glede na vremensko okoliščino izid nesreče z materialno škodo zelo pogost. Temu ni tako le v primeru toče. To bi lahko pripisali dejstvu, da je takrat na cesti manj vozil. Ravno nasprotno pa je delež izida nesreče z lažjo telesno poškodbo najbolj pogost v primeru, ko je toča. Iz grafa opazimo tudi zanimiv podatek, da je delež izida nesreče s smrtnim izidom večji v primeru deževnega, jasnega, meglenega in oblačnega vremena."
   ]
  },
  {
   "cell_type": "markdown",
   "metadata": {},
   "source": [
    "### Prometne nesreče in izidi glede na vrsto nesreče"
   ]
  },
  {
   "cell_type": "markdown",
   "metadata": {},
   "source": [
    "![vrsta](vizualizacije/vrsta.jpg)"
   ]
  },
  {
   "cell_type": "markdown",
   "metadata": {},
   "source": [
    "Zgornji histogram prikazuje delež prometnih nesreč glede na izid in vrsto nesreče. Smrtni izid prevlada v primeru čelnega trčenja in povoženja pešca. V primerjavi z ostalimi izidi ima smrtni izid visok delež tudi pri prevrnitvi vozila in trčenju v objekt. Najmilejša posledica - materialna škoda je najbolj pogosta pri oplazenju in trčenju v stoječe oz. parkirano vozilo. Pri bočnem trčenju so izidi nesreče dokaj enakomerno razpodeljeni v primerjavi z ostalimi vrstami."
   ]
  },
  {
   "cell_type": "markdown",
   "metadata": {},
   "source": [
    "## Zanimivosti in zaključek"
   ]
  },
  {
   "cell_type": "markdown",
   "metadata": {},
   "source": [
    "### Toplotni zemljevid"
   ]
  },
  {
   "cell_type": "markdown",
   "metadata": {},
   "source": [
    "Toplotni zemljevid prometnih nesreč v Sloveniji je grafični prikaz, ki uporablja barvno lestvico za vizualizacijo gostote prometnih nesreč na geografskem območju države. Barvna lestvica na toplotnem zemljevidu predstavlja stopnjo gostote prometnih nesreč. Območja z intenzivnejšo barvo kažejo na območja z večjim številom nesreč, medtem ko območja z manj intenzivno barvo označujejo območja z manjšo gostoto nesreč.\n",
    "\n",
    "Toplotni zemljevid nam omogoča, da hitro prepoznamo območja z višjo koncentracijo prometnih nesreč in identificiramo \"vroča\" območja. Te informacije so pomembne pri določanju prioritetnih območij za izvajanje prometno-varnostnih ukrepov in bolj usmerjenega nadzora na cestah.\n",
    "\n",
    "Toplotni zemljevid je dostopen na povezavi: https://nbviewer.org/github/TiaSarkezi/PR23SCGFMLTS/blob/main/zemljevid.ipynb"
   ]
  },
  {
   "cell_type": "markdown",
   "metadata": {},
   "source": [
    "### Zaključek"
   ]
  },
  {
   "cell_type": "markdown",
   "metadata": {},
   "source": [
    "Nač prvi cilj je bil ugotoviti število prometnih nesreč po letih. Pri analizi tega smo ugotovili, da je v času pandemije število nesreč strmo upadlo. To pripisujemo dejstvu, da je bilo takrat na cesti manj vozil. Od leta 2021 pa se število prometnih nesreč spet viša. Nato nas je zanimalo, kdo so največkrat povzročitelji prometnih nesreč. Ugotovili smo, da so povzročitelji največkrat osebe med štiridesetim in šestdesetim letom starosti in kar 70% le teh je moškega spola. Nato nas je zanimala stopnja korelacije med povzročitvijo nesreče in vozniškim stažem. Ugotovili smo, da so povzročitelji nesreč pogosteje vozniki, ki imajo vozniški staž med 0 in 5 leti. Ugotovili smo, da je najpogostejši vzrok za nesrečo s smrtnim izidom čelno trčenje. Naš naslednji cilj je bil ugotoviti stopnjo korelacije med tipi poškodb in uporabo varnostnega pasu. Analiza kaže, da je delež ljudi, ki so v prometnih nesrečah umrli in med vožnjo niso imeli zapetega varnostnega pasu večji kot pri vseh ostalih kategorijah. Raziskali smo tudi, kako pogosti so različni izidi prometnih nesreč v odvisnosti od drugih dejavnikov, kot sta vremenske okoliščine in vrsta nesreče. Naš zadnji cilj pa je bil ugotoviti ob katerih dnevih in katerem delu dneva so prometne nesreče najpogostejše. Ugotovili smo, da se prometne nesreče največkrat zgodijo, ko je promet gost, ob petkih med 12:00 in 15:00 in da se nesreče s smrtnim izidom dogajajo predvsem v deževnem, jasnem, meglenem in oblačnem vremenu.\n",
    "\n",
    "Na podlagi analize prometnih nesreč v Sloveniji je mogoče zaključiti, da so nesreče še vedno pomemben izziv za prometno varnost v državi. Za dosego trajnostnih izboljšav prometne varnosti je treba nadaljevati z analizo in spremljanjem prometnih nesreč ter identificirati trende in vzorce, ki nam pomagajo usmerjati prizadevanja na prava področja. S celovitim pristopom, ki vključuje izobraževanje, infrastrukturne izboljšave, strožje kazni ter ozaveščanje in odgovorno ravnanje vseh udeležencev v prometu, lahko dosežemo bolj varno in zanesljivo prometno okolje v Sloveniji."
   ]
  }
 ],
 "metadata": {
  "kernelspec": {
   "display_name": "Python 3 (ipykernel)",
   "language": "python",
   "name": "python3"
  },
  "language_info": {
   "codemirror_mode": {
    "name": "ipython",
    "version": 3
   },
   "file_extension": ".py",
   "mimetype": "text/x-python",
   "name": "python",
   "nbconvert_exporter": "python",
   "pygments_lexer": "ipython3",
   "version": "3.10.1"
  }
 },
 "nbformat": 4,
 "nbformat_minor": 2
}
